{
  "nbformat": 4,
  "nbformat_minor": 0,
  "metadata": {
    "colab": {
      "name": "Understanding_dataset.ipynb",
      "provenance": [],
      "authorship_tag": "ABX9TyOWyOeVDqyccD0+LPkN0krO",
      "include_colab_link": true
    },
    "kernelspec": {
      "name": "python3",
      "display_name": "Python 3"
    }
  },
  "cells": [
    {
      "cell_type": "markdown",
      "metadata": {
        "id": "view-in-github",
        "colab_type": "text"
      },
      "source": [
        "<a href=\"https://colab.research.google.com/github/msritian/shivam/blob/master/Understanding_dataset.ipynb\" target=\"_parent\"><img src=\"https://colab.research.google.com/assets/colab-badge.svg\" alt=\"Open In Colab\"/></a>"
      ]
    },
    {
      "cell_type": "code",
      "metadata": {
        "id": "sgeRCZJc79k6",
        "colab_type": "code",
        "colab": {}
      },
      "source": [
        ""
      ],
      "execution_count": null,
      "outputs": []
    },
    {
      "cell_type": "markdown",
      "metadata": {
        "id": "h0XC1iYm8hhg",
        "colab_type": "text"
      },
      "source": [
        "**bold text**"
      ]
    },
    {
      "cell_type": "code",
      "metadata": {
        "id": "BGgRhlDQ8ru2",
        "colab_type": "code",
        "colab": {
          "base_uri": "https://localhost:8080/",
          "height": 71
        },
        "outputId": "7a3c2cd0-6771-4ac8-e34f-21657278ce0b"
      },
      "source": [
        "import numpy as np\n",
        "import pandas as pd\n",
        "import matplotlib.pyplot as plt\n",
        "import seaborn as sns\n"
      ],
      "execution_count": null,
      "outputs": [
        {
          "output_type": "stream",
          "text": [
            "/usr/local/lib/python3.6/dist-packages/statsmodels/tools/_testing.py:19: FutureWarning: pandas.util.testing is deprecated. Use the functions in the public API at pandas.testing instead.\n",
            "  import pandas.util.testing as tm\n"
          ],
          "name": "stderr"
        }
      ]
    },
    {
      "cell_type": "code",
      "metadata": {
        "id": "ljCam1ER9pgh",
        "colab_type": "code",
        "colab": {}
      },
      "source": [
        "webinar_data=pd.read_csv('https://raw.githubusercontent.com/kusumikakd/Datasets/master/Datasets/Responses%20of%20participant%20-%20Form%20Responses%201.csv')\n"
      ],
      "execution_count": null,
      "outputs": []
    },
    {
      "cell_type": "code",
      "metadata": {
        "id": "O1TI-Lga_zR_",
        "colab_type": "code",
        "colab": {
          "base_uri": "https://localhost:8080/",
          "height": 343
        },
        "outputId": "469ac497-ac7c-47a5-e16a-82c7a01aca01"
      },
      "source": [
        "webinar_data.head()"
      ],
      "execution_count": null,
      "outputs": [
        {
          "output_type": "execute_result",
          "data": {
            "text/html": [
              "<div>\n",
              "<style scoped>\n",
              "    .dataframe tbody tr th:only-of-type {\n",
              "        vertical-align: middle;\n",
              "    }\n",
              "\n",
              "    .dataframe tbody tr th {\n",
              "        vertical-align: top;\n",
              "    }\n",
              "\n",
              "    .dataframe thead th {\n",
              "        text-align: right;\n",
              "    }\n",
              "</style>\n",
              "<table border=\"1\" class=\"dataframe\">\n",
              "  <thead>\n",
              "    <tr style=\"text-align: right;\">\n",
              "      <th></th>\n",
              "      <th>Timestamp</th>\n",
              "      <th>Name</th>\n",
              "      <th>Designation</th>\n",
              "      <th>Department and college/organisation  name</th>\n",
              "      <th>E-mail ID</th>\n",
              "      <th>Phone no.</th>\n",
              "    </tr>\n",
              "  </thead>\n",
              "  <tbody>\n",
              "    <tr>\n",
              "      <th>0</th>\n",
              "      <td>6/14/2020 20:36:48</td>\n",
              "      <td>Abhijeet Sarkar</td>\n",
              "      <td>Student</td>\n",
              "      <td>EEE</td>\n",
              "      <td>sarkarabhijeet096@gmail.com</td>\n",
              "      <td>9634767946</td>\n",
              "    </tr>\n",
              "    <tr>\n",
              "      <th>1</th>\n",
              "      <td>6/14/2020 20:38:16</td>\n",
              "      <td>Anisha Singh</td>\n",
              "      <td>student</td>\n",
              "      <td>Electronics and instrumentation</td>\n",
              "      <td>anisha.singh218@gmail.com</td>\n",
              "      <td>8178697062</td>\n",
              "    </tr>\n",
              "    <tr>\n",
              "      <th>2</th>\n",
              "      <td>6/14/2020 20:38:30</td>\n",
              "      <td>Shravya A S</td>\n",
              "      <td>Student</td>\n",
              "      <td>Industrial engineering and management</td>\n",
              "      <td>shravya18asagodu@gmail.com</td>\n",
              "      <td>8277209264</td>\n",
              "    </tr>\n",
              "    <tr>\n",
              "      <th>3</th>\n",
              "      <td>6/14/2020 20:38:52</td>\n",
              "      <td>Shreya Bhat</td>\n",
              "      <td>Student</td>\n",
              "      <td>Industrial engineering and management</td>\n",
              "      <td>shreyanbhat12@gmail.com</td>\n",
              "      <td>8861064857</td>\n",
              "    </tr>\n",
              "    <tr>\n",
              "      <th>4</th>\n",
              "      <td>6/14/2020 20:38:56</td>\n",
              "      <td>Kushal Chukanatti</td>\n",
              "      <td>Student</td>\n",
              "      <td>Ise</td>\n",
              "      <td>kushalchukanatti123@gmail.com</td>\n",
              "      <td>7892005611</td>\n",
              "    </tr>\n",
              "  </tbody>\n",
              "</table>\n",
              "</div>"
            ],
            "text/plain": [
              "            Timestamp  ...   Phone no.\n",
              "0  6/14/2020 20:36:48  ...  9634767946\n",
              "1  6/14/2020 20:38:16  ...  8178697062\n",
              "2  6/14/2020 20:38:30  ...  8277209264\n",
              "3  6/14/2020 20:38:52  ...  8861064857\n",
              "4  6/14/2020 20:38:56  ...  7892005611\n",
              "\n",
              "[5 rows x 6 columns]"
            ]
          },
          "metadata": {
            "tags": []
          },
          "execution_count": 7
        }
      ]
    },
    {
      "cell_type": "code",
      "metadata": {
        "id": "Ghdjc6yeAEu7",
        "colab_type": "code",
        "colab": {
          "base_uri": "https://localhost:8080/",
          "height": 445
        },
        "outputId": "cd952e80-9fdf-4195-8ed2-3d8fdd530a53"
      },
      "source": [
        "webinar_data.tail()\n"
      ],
      "execution_count": null,
      "outputs": [
        {
          "output_type": "execute_result",
          "data": {
            "text/html": [
              "<div>\n",
              "<style scoped>\n",
              "    .dataframe tbody tr th:only-of-type {\n",
              "        vertical-align: middle;\n",
              "    }\n",
              "\n",
              "    .dataframe tbody tr th {\n",
              "        vertical-align: top;\n",
              "    }\n",
              "\n",
              "    .dataframe thead th {\n",
              "        text-align: right;\n",
              "    }\n",
              "</style>\n",
              "<table border=\"1\" class=\"dataframe\">\n",
              "  <thead>\n",
              "    <tr style=\"text-align: right;\">\n",
              "      <th></th>\n",
              "      <th>Timestamp</th>\n",
              "      <th>Name</th>\n",
              "      <th>Designation</th>\n",
              "      <th>Department and college/organisation  name</th>\n",
              "      <th>E-mail ID</th>\n",
              "      <th>Phone no.</th>\n",
              "    </tr>\n",
              "  </thead>\n",
              "  <tbody>\n",
              "    <tr>\n",
              "      <th>157</th>\n",
              "      <td>6/24/2020 15:22:30</td>\n",
              "      <td>CP PRAJWAL</td>\n",
              "      <td>Student</td>\n",
              "      <td>Mechanical and Ramaiah institute of technology</td>\n",
              "      <td>prajwalchidri@gmail.com</td>\n",
              "      <td>9902128887</td>\n",
              "    </tr>\n",
              "    <tr>\n",
              "      <th>158</th>\n",
              "      <td>6/24/2020 16:18:02</td>\n",
              "      <td>Mohammed Sahil</td>\n",
              "      <td>Student</td>\n",
              "      <td>Mechanical /M S Ramaiah Institute of Technology</td>\n",
              "      <td>mohammedsahilraza1947@gmail.com</td>\n",
              "      <td>7338101691</td>\n",
              "    </tr>\n",
              "    <tr>\n",
              "      <th>159</th>\n",
              "      <td>6/24/2020 16:28:23</td>\n",
              "      <td>Jaison Pravith Dsouza</td>\n",
              "      <td>Student</td>\n",
              "      <td>CSE, RIT</td>\n",
              "      <td>jaisonp.dsouza@gmail.com</td>\n",
              "      <td>8971336365</td>\n",
              "    </tr>\n",
              "    <tr>\n",
              "      <th>160</th>\n",
              "      <td>6/24/2020 17:19:38</td>\n",
              "      <td>Shawani Shome</td>\n",
              "      <td>Student</td>\n",
              "      <td>Chemical engineering, Sathyabama Institute of ...</td>\n",
              "      <td>shawanishome@gmail.com</td>\n",
              "      <td>8133888291</td>\n",
              "    </tr>\n",
              "    <tr>\n",
              "      <th>161</th>\n",
              "      <td>6/24/2020 17:27:16</td>\n",
              "      <td>NIKHIL KUMAR</td>\n",
              "      <td>STUDENT</td>\n",
              "      <td>SATHYABAMA INSTITUTE OF SCIENCE AND TECHNOLOGY</td>\n",
              "      <td>1404nikhilkr@gmail.com</td>\n",
              "      <td>9013240100</td>\n",
              "    </tr>\n",
              "  </tbody>\n",
              "</table>\n",
              "</div>"
            ],
            "text/plain": [
              "              Timestamp  ...   Phone no.\n",
              "157  6/24/2020 15:22:30  ...  9902128887\n",
              "158  6/24/2020 16:18:02  ...  7338101691\n",
              "159  6/24/2020 16:28:23  ...  8971336365\n",
              "160  6/24/2020 17:19:38  ...  8133888291\n",
              "161  6/24/2020 17:27:16  ...  9013240100\n",
              "\n",
              "[5 rows x 6 columns]"
            ]
          },
          "metadata": {
            "tags": []
          },
          "execution_count": 8
        }
      ]
    },
    {
      "cell_type": "code",
      "metadata": {
        "id": "ZlMlYc-uCWYQ",
        "colab_type": "code",
        "colab": {
          "base_uri": "https://localhost:8080/",
          "height": 436
        },
        "outputId": "8eee0105-2482-4f5b-cb2c-b611e925b3f9"
      },
      "source": [
        "webinar_data.isnull()"
      ],
      "execution_count": null,
      "outputs": [
        {
          "output_type": "execute_result",
          "data": {
            "text/html": [
              "<div>\n",
              "<style scoped>\n",
              "    .dataframe tbody tr th:only-of-type {\n",
              "        vertical-align: middle;\n",
              "    }\n",
              "\n",
              "    .dataframe tbody tr th {\n",
              "        vertical-align: top;\n",
              "    }\n",
              "\n",
              "    .dataframe thead th {\n",
              "        text-align: right;\n",
              "    }\n",
              "</style>\n",
              "<table border=\"1\" class=\"dataframe\">\n",
              "  <thead>\n",
              "    <tr style=\"text-align: right;\">\n",
              "      <th></th>\n",
              "      <th>Timestamp</th>\n",
              "      <th>Name</th>\n",
              "      <th>Designation</th>\n",
              "      <th>Department and college/organisation  name</th>\n",
              "      <th>E-mail ID</th>\n",
              "      <th>Phone no.</th>\n",
              "    </tr>\n",
              "  </thead>\n",
              "  <tbody>\n",
              "    <tr>\n",
              "      <th>0</th>\n",
              "      <td>False</td>\n",
              "      <td>False</td>\n",
              "      <td>False</td>\n",
              "      <td>False</td>\n",
              "      <td>False</td>\n",
              "      <td>False</td>\n",
              "    </tr>\n",
              "    <tr>\n",
              "      <th>1</th>\n",
              "      <td>False</td>\n",
              "      <td>False</td>\n",
              "      <td>False</td>\n",
              "      <td>False</td>\n",
              "      <td>False</td>\n",
              "      <td>False</td>\n",
              "    </tr>\n",
              "    <tr>\n",
              "      <th>2</th>\n",
              "      <td>False</td>\n",
              "      <td>False</td>\n",
              "      <td>False</td>\n",
              "      <td>False</td>\n",
              "      <td>False</td>\n",
              "      <td>False</td>\n",
              "    </tr>\n",
              "    <tr>\n",
              "      <th>3</th>\n",
              "      <td>False</td>\n",
              "      <td>False</td>\n",
              "      <td>False</td>\n",
              "      <td>False</td>\n",
              "      <td>False</td>\n",
              "      <td>False</td>\n",
              "    </tr>\n",
              "    <tr>\n",
              "      <th>4</th>\n",
              "      <td>False</td>\n",
              "      <td>False</td>\n",
              "      <td>False</td>\n",
              "      <td>False</td>\n",
              "      <td>False</td>\n",
              "      <td>False</td>\n",
              "    </tr>\n",
              "    <tr>\n",
              "      <th>...</th>\n",
              "      <td>...</td>\n",
              "      <td>...</td>\n",
              "      <td>...</td>\n",
              "      <td>...</td>\n",
              "      <td>...</td>\n",
              "      <td>...</td>\n",
              "    </tr>\n",
              "    <tr>\n",
              "      <th>157</th>\n",
              "      <td>False</td>\n",
              "      <td>False</td>\n",
              "      <td>False</td>\n",
              "      <td>False</td>\n",
              "      <td>False</td>\n",
              "      <td>False</td>\n",
              "    </tr>\n",
              "    <tr>\n",
              "      <th>158</th>\n",
              "      <td>False</td>\n",
              "      <td>False</td>\n",
              "      <td>False</td>\n",
              "      <td>False</td>\n",
              "      <td>False</td>\n",
              "      <td>False</td>\n",
              "    </tr>\n",
              "    <tr>\n",
              "      <th>159</th>\n",
              "      <td>False</td>\n",
              "      <td>False</td>\n",
              "      <td>False</td>\n",
              "      <td>False</td>\n",
              "      <td>False</td>\n",
              "      <td>False</td>\n",
              "    </tr>\n",
              "    <tr>\n",
              "      <th>160</th>\n",
              "      <td>False</td>\n",
              "      <td>False</td>\n",
              "      <td>False</td>\n",
              "      <td>False</td>\n",
              "      <td>False</td>\n",
              "      <td>False</td>\n",
              "    </tr>\n",
              "    <tr>\n",
              "      <th>161</th>\n",
              "      <td>False</td>\n",
              "      <td>False</td>\n",
              "      <td>False</td>\n",
              "      <td>False</td>\n",
              "      <td>False</td>\n",
              "      <td>False</td>\n",
              "    </tr>\n",
              "  </tbody>\n",
              "</table>\n",
              "<p>162 rows × 6 columns</p>\n",
              "</div>"
            ],
            "text/plain": [
              "     Timestamp   Name  ...  E-mail ID  Phone no.\n",
              "0        False  False  ...      False      False\n",
              "1        False  False  ...      False      False\n",
              "2        False  False  ...      False      False\n",
              "3        False  False  ...      False      False\n",
              "4        False  False  ...      False      False\n",
              "..         ...    ...  ...        ...        ...\n",
              "157      False  False  ...      False      False\n",
              "158      False  False  ...      False      False\n",
              "159      False  False  ...      False      False\n",
              "160      False  False  ...      False      False\n",
              "161      False  False  ...      False      False\n",
              "\n",
              "[162 rows x 6 columns]"
            ]
          },
          "metadata": {
            "tags": []
          },
          "execution_count": 10
        }
      ]
    },
    {
      "cell_type": "code",
      "metadata": {
        "id": "vFm1dGt7Dw4p",
        "colab_type": "code",
        "colab": {
          "base_uri": "https://localhost:8080/",
          "height": 136
        },
        "outputId": "664d33c2-d202-488e-9041-fae6c87f042b"
      },
      "source": [
        "webinar_data.isnull().sum()"
      ],
      "execution_count": null,
      "outputs": [
        {
          "output_type": "execute_result",
          "data": {
            "text/plain": [
              "Timestamp                                    0\n",
              "Name                                         0\n",
              "Designation                                  0\n",
              "Department and college/organisation  name    0\n",
              "E-mail ID                                    0\n",
              "Phone no.                                    0\n",
              "dtype: int64"
            ]
          },
          "metadata": {
            "tags": []
          },
          "execution_count": 11
        }
      ]
    },
    {
      "cell_type": "code",
      "metadata": {
        "id": "I73DZ1knEB44",
        "colab_type": "code",
        "colab": {}
      },
      "source": [
        "x=webinar_data.drop(['Name'],axis=1)"
      ],
      "execution_count": null,
      "outputs": []
    },
    {
      "cell_type": "code",
      "metadata": {
        "id": "FueObwXOLBMQ",
        "colab_type": "code",
        "colab": {
          "base_uri": "https://localhost:8080/",
          "height": 136
        },
        "outputId": "6d4d64ab-c178-4fcd-e7ff-90700f2e9009"
      },
      "source": [
        "webinar_data.isnull().sum()"
      ],
      "execution_count": null,
      "outputs": [
        {
          "output_type": "execute_result",
          "data": {
            "text/plain": [
              "Timestamp                                    0\n",
              "Name                                         0\n",
              "Designation                                  0\n",
              "Department and college/organisation  name    0\n",
              "E-mail ID                                    0\n",
              "Phone no.                                    0\n",
              "dtype: int64"
            ]
          },
          "metadata": {
            "tags": []
          },
          "execution_count": 17
        }
      ]
    },
    {
      "cell_type": "code",
      "metadata": {
        "id": "_g1j6laTLiSi",
        "colab_type": "code",
        "colab": {
          "base_uri": "https://localhost:8080/",
          "height": 728
        },
        "outputId": "0541b2d7-8a1c-4a01-ed1a-556f74246a1c"
      },
      "source": [
        "x"
      ],
      "execution_count": null,
      "outputs": [
        {
          "output_type": "execute_result",
          "data": {
            "text/html": [
              "<div>\n",
              "<style scoped>\n",
              "    .dataframe tbody tr th:only-of-type {\n",
              "        vertical-align: middle;\n",
              "    }\n",
              "\n",
              "    .dataframe tbody tr th {\n",
              "        vertical-align: top;\n",
              "    }\n",
              "\n",
              "    .dataframe thead th {\n",
              "        text-align: right;\n",
              "    }\n",
              "</style>\n",
              "<table border=\"1\" class=\"dataframe\">\n",
              "  <thead>\n",
              "    <tr style=\"text-align: right;\">\n",
              "      <th></th>\n",
              "      <th>Timestamp</th>\n",
              "      <th>Designation</th>\n",
              "      <th>Department and college/organisation  name</th>\n",
              "      <th>E-mail ID</th>\n",
              "      <th>Phone no.</th>\n",
              "    </tr>\n",
              "  </thead>\n",
              "  <tbody>\n",
              "    <tr>\n",
              "      <th>0</th>\n",
              "      <td>6/14/2020 20:36:48</td>\n",
              "      <td>Student</td>\n",
              "      <td>EEE</td>\n",
              "      <td>sarkarabhijeet096@gmail.com</td>\n",
              "      <td>9634767946</td>\n",
              "    </tr>\n",
              "    <tr>\n",
              "      <th>1</th>\n",
              "      <td>6/14/2020 20:38:16</td>\n",
              "      <td>student</td>\n",
              "      <td>Electronics and instrumentation</td>\n",
              "      <td>anisha.singh218@gmail.com</td>\n",
              "      <td>8178697062</td>\n",
              "    </tr>\n",
              "    <tr>\n",
              "      <th>2</th>\n",
              "      <td>6/14/2020 20:38:30</td>\n",
              "      <td>Student</td>\n",
              "      <td>Industrial engineering and management</td>\n",
              "      <td>shravya18asagodu@gmail.com</td>\n",
              "      <td>8277209264</td>\n",
              "    </tr>\n",
              "    <tr>\n",
              "      <th>3</th>\n",
              "      <td>6/14/2020 20:38:52</td>\n",
              "      <td>Student</td>\n",
              "      <td>Industrial engineering and management</td>\n",
              "      <td>shreyanbhat12@gmail.com</td>\n",
              "      <td>8861064857</td>\n",
              "    </tr>\n",
              "    <tr>\n",
              "      <th>4</th>\n",
              "      <td>6/14/2020 20:38:56</td>\n",
              "      <td>Student</td>\n",
              "      <td>Ise</td>\n",
              "      <td>kushalchukanatti123@gmail.com</td>\n",
              "      <td>7892005611</td>\n",
              "    </tr>\n",
              "    <tr>\n",
              "      <th>...</th>\n",
              "      <td>...</td>\n",
              "      <td>...</td>\n",
              "      <td>...</td>\n",
              "      <td>...</td>\n",
              "      <td>...</td>\n",
              "    </tr>\n",
              "    <tr>\n",
              "      <th>157</th>\n",
              "      <td>6/24/2020 15:22:30</td>\n",
              "      <td>Student</td>\n",
              "      <td>Mechanical and Ramaiah institute of technology</td>\n",
              "      <td>prajwalchidri@gmail.com</td>\n",
              "      <td>9902128887</td>\n",
              "    </tr>\n",
              "    <tr>\n",
              "      <th>158</th>\n",
              "      <td>6/24/2020 16:18:02</td>\n",
              "      <td>Student</td>\n",
              "      <td>Mechanical /M S Ramaiah Institute of Technology</td>\n",
              "      <td>mohammedsahilraza1947@gmail.com</td>\n",
              "      <td>7338101691</td>\n",
              "    </tr>\n",
              "    <tr>\n",
              "      <th>159</th>\n",
              "      <td>6/24/2020 16:28:23</td>\n",
              "      <td>Student</td>\n",
              "      <td>CSE, RIT</td>\n",
              "      <td>jaisonp.dsouza@gmail.com</td>\n",
              "      <td>8971336365</td>\n",
              "    </tr>\n",
              "    <tr>\n",
              "      <th>160</th>\n",
              "      <td>6/24/2020 17:19:38</td>\n",
              "      <td>Student</td>\n",
              "      <td>Chemical engineering, Sathyabama Institute of ...</td>\n",
              "      <td>shawanishome@gmail.com</td>\n",
              "      <td>8133888291</td>\n",
              "    </tr>\n",
              "    <tr>\n",
              "      <th>161</th>\n",
              "      <td>6/24/2020 17:27:16</td>\n",
              "      <td>STUDENT</td>\n",
              "      <td>SATHYABAMA INSTITUTE OF SCIENCE AND TECHNOLOGY</td>\n",
              "      <td>1404nikhilkr@gmail.com</td>\n",
              "      <td>9013240100</td>\n",
              "    </tr>\n",
              "  </tbody>\n",
              "</table>\n",
              "<p>162 rows × 5 columns</p>\n",
              "</div>"
            ],
            "text/plain": [
              "              Timestamp  ...   Phone no.\n",
              "0    6/14/2020 20:36:48  ...  9634767946\n",
              "1    6/14/2020 20:38:16  ...  8178697062\n",
              "2    6/14/2020 20:38:30  ...  8277209264\n",
              "3    6/14/2020 20:38:52  ...  8861064857\n",
              "4    6/14/2020 20:38:56  ...  7892005611\n",
              "..                  ...  ...         ...\n",
              "157  6/24/2020 15:22:30  ...  9902128887\n",
              "158  6/24/2020 16:18:02  ...  7338101691\n",
              "159  6/24/2020 16:28:23  ...  8971336365\n",
              "160  6/24/2020 17:19:38  ...  8133888291\n",
              "161  6/24/2020 17:27:16  ...  9013240100\n",
              "\n",
              "[162 rows x 5 columns]"
            ]
          },
          "metadata": {
            "tags": []
          },
          "execution_count": 19
        }
      ]
    },
    {
      "cell_type": "code",
      "metadata": {
        "id": "Q-V7adboMKUx",
        "colab_type": "code",
        "colab": {
          "base_uri": "https://localhost:8080/",
          "height": 119
        },
        "outputId": "66ba527c-31f3-4e2c-dcdb-1f6a7b46dba0"
      },
      "source": [
        "x.isnull().sum()"
      ],
      "execution_count": null,
      "outputs": [
        {
          "output_type": "execute_result",
          "data": {
            "text/plain": [
              "Timestamp                                    0\n",
              "Designation                                  0\n",
              "Department and college/organisation  name    0\n",
              "E-mail ID                                    0\n",
              "Phone no.                                    0\n",
              "dtype: int64"
            ]
          },
          "metadata": {
            "tags": []
          },
          "execution_count": 20
        }
      ]
    },
    {
      "cell_type": "code",
      "metadata": {
        "id": "e_TEXD9FMOwr",
        "colab_type": "code",
        "colab": {}
      },
      "source": [
        "webinar_data.drop(['Name'],axis=1,inplace=True)\n"
      ],
      "execution_count": null,
      "outputs": []
    },
    {
      "cell_type": "code",
      "metadata": {
        "id": "8fUQM08dMtm4",
        "colab_type": "code",
        "colab": {
          "base_uri": "https://localhost:8080/",
          "height": 119
        },
        "outputId": "e98e7f39-875c-4f01-bda1-7e0e439d7b0f"
      },
      "source": [
        "webinar_data.isnull().sum()"
      ],
      "execution_count": null,
      "outputs": [
        {
          "output_type": "execute_result",
          "data": {
            "text/plain": [
              "Timestamp                                    0\n",
              "Designation                                  0\n",
              "Department and college/organisation  name    0\n",
              "E-mail ID                                    0\n",
              "Phone no.                                    0\n",
              "dtype: int64"
            ]
          },
          "metadata": {
            "tags": []
          },
          "execution_count": 22
        }
      ]
    },
    {
      "cell_type": "code",
      "metadata": {
        "id": "Mz9L0m4_MyH1",
        "colab_type": "code",
        "colab": {
          "base_uri": "https://localhost:8080/",
          "height": 119
        },
        "outputId": "36a589bf-0d61-4de8-bfd2-19ec8d64042b"
      },
      "source": [
        "webinar_data.isnull().sum().sort_values(ascending=False)"
      ],
      "execution_count": null,
      "outputs": [
        {
          "output_type": "execute_result",
          "data": {
            "text/plain": [
              "Phone no.                                    0\n",
              "E-mail ID                                    0\n",
              "Department and college/organisation  name    0\n",
              "Designation                                  0\n",
              "Timestamp                                    0\n",
              "dtype: int64"
            ]
          },
          "metadata": {
            "tags": []
          },
          "execution_count": 29
        }
      ]
    },
    {
      "cell_type": "code",
      "metadata": {
        "id": "JCoWyPQbNihq",
        "colab_type": "code",
        "colab": {}
      },
      "source": [
        "Phone=webinar_data['Phone no.'].median"
      ],
      "execution_count": null,
      "outputs": []
    },
    {
      "cell_type": "code",
      "metadata": {
        "id": "oaGMM3BAObuq",
        "colab_type": "code",
        "colab": {
          "base_uri": "https://localhost:8080/",
          "height": 221
        },
        "outputId": "80201d00-2ca9-48c5-c312-73a82a89cef0"
      },
      "source": [
        "Phone"
      ],
      "execution_count": null,
      "outputs": [
        {
          "output_type": "execute_result",
          "data": {
            "text/plain": [
              "<bound method Series.median of 0      9634767946\n",
              "1      8178697062\n",
              "2      8277209264\n",
              "3      8861064857\n",
              "4      7892005611\n",
              "          ...    \n",
              "157    9902128887\n",
              "158    7338101691\n",
              "159    8971336365\n",
              "160    8133888291\n",
              "161    9013240100\n",
              "Name: Phone no., Length: 162, dtype: int64>"
            ]
          },
          "metadata": {
            "tags": []
          },
          "execution_count": 33
        }
      ]
    },
    {
      "cell_type": "code",
      "metadata": {
        "id": "wOBud_PvPDBu",
        "colab_type": "code",
        "colab": {}
      },
      "source": [
        "webinar_data['Phone no.'].replace(np.nan,Phone,inplace=True)"
      ],
      "execution_count": null,
      "outputs": []
    },
    {
      "cell_type": "code",
      "metadata": {
        "id": "uytPJDmBPbmA",
        "colab_type": "code",
        "colab": {
          "base_uri": "https://localhost:8080/",
          "height": 119
        },
        "outputId": "b80024d0-f034-4f35-af0a-2005805b78c4"
      },
      "source": [
        "webinar_data.isnull().sum()"
      ],
      "execution_count": null,
      "outputs": [
        {
          "output_type": "execute_result",
          "data": {
            "text/plain": [
              "Timestamp                                    0\n",
              "Designation                                  0\n",
              "Department and college/organisation  name    0\n",
              "E-mail ID                                    0\n",
              "Phone no.                                    0\n",
              "dtype: int64"
            ]
          },
          "metadata": {
            "tags": []
          },
          "execution_count": 37
        }
      ]
    },
    {
      "cell_type": "markdown",
      "metadata": {
        "id": "6n8P1MwvP4Jy",
        "colab_type": "text"
      },
      "source": [
        "If there r any missing datasets of any field then average of remaining entered values of that field is taken and that value is filled to missing places with replace function\n",
        "\n",
        "\n",
        "\n"
      ]
    },
    {
      "cell_type": "code",
      "metadata": {
        "id": "bezPfLm9Pyep",
        "colab_type": "code",
        "colab": {
          "base_uri": "https://localhost:8080/",
          "height": 293
        },
        "outputId": "2562832b-5268-48d1-f437-b8ea555f45c5"
      },
      "source": [
        "webinar_data.replace('?',np.nan)\n",
        "webinar_data['Phone no.'].plot()\n"
      ],
      "execution_count": null,
      "outputs": [
        {
          "output_type": "execute_result",
          "data": {
            "text/plain": [
              "<matplotlib.axes._subplots.AxesSubplot at 0x7f11c7fdad68>"
            ]
          },
          "metadata": {
            "tags": []
          },
          "execution_count": 41
        },
        {
          "output_type": "display_data",
          "data": {
            "image/png": "[encoded data removed]",
            "text/plain": [
              "<Figure size 432x288 with 1 Axes>"
            ]
          },
          "metadata": {
            "tags": [],
            "needs_background": "light"
          }
        }
      ]
    },
    {
      "cell_type": "code",
      "metadata": {
        "id": "j_JGGoLVR3hJ",
        "colab_type": "code",
        "colab": {
          "base_uri": "https://localhost:8080/",
          "height": 680
        },
        "outputId": "75515b4d-f96b-44c4-ab64-aa40408ece01"
      },
      "source": [
        "webinar_data['Phone no.'].sort_values().unique()"
      ],
      "execution_count": null,
      "outputs": [
        {
          "output_type": "execute_result",
          "data": {
            "text/plain": [
              "array([  6203292991,   6303353979,   6360941851,   6362914965,\n",
              "         6363188579,   7004264726,   7006771085,   7019835276,\n",
              "         7022236415,   7022310591,   7022505569,   7026799234,\n",
              "         7074430133,   7204281043,   7204879665,   7259254008,\n",
              "         7259674650,   7337717709,   7338101691,   7349225642,\n",
              "         7358666181,   7386845215,   7406103357,   7406469791,\n",
              "         7410948753,   7411212923,   7424985528,   7483406387,\n",
              "         7624819010,   7760451893,   7760696632,   7799590004,\n",
              "         7829121999,   7829997531,   7892005611,   7892006570,\n",
              "         7892045355,   7892671834,   7975738855,   7975873872,\n",
              "         8050213203,   8095650154,   8095938516,   8105606685,\n",
              "         8133888291,   8178697062,   8181008484,   8197094411,\n",
              "         8197328654,   8218718474,   8277209264,   8296047642,\n",
              "         8310636929,   8310671041,   8310696473,   8374576532,\n",
              "         8431399066,   8431629243,   8618720812,   8652581265,\n",
              "         8747911173,   8762018221,   8762597509,   8764755660,\n",
              "         8792916121,   8861064857,   8861124357,   8892349965,\n",
              "         8904114214,   8970045046,   8971180795,   8971336365,\n",
              "         8971562082,   9013240100,   9019181900,   9029382884,\n",
              "         9036309529,   9036488496,   9071651603,   9078068215,\n",
              "         9110409371,   9113969531,   9148134568,   9148892712,\n",
              "         9164942200,   9175788708,   9242779988,   9304214074,\n",
              "         9347575556,   9352157900,   9380281720,   9380386193,\n",
              "         9448403453,   9448741172,   9480491199,   9481763813,\n",
              "         9481801685,   9482917155,   9483741013,   9490216020,\n",
              "         9535931684,   9571087960,   9582673503,   9582717169,\n",
              "         9591185516,   9591389827,   9591523566,   9591784186,\n",
              "         9596965838,   9606191400,   9611249541,   9611534422,\n",
              "         9620224678,   9620895666,   9634767946,   9663379012,\n",
              "         9686166425,   9686693037,   9695026259,   9708249157,\n",
              "         9731877001,   9731889610,   9739175430,   9741096063,\n",
              "         9741596330,   9742713470,   9743163765,   9789722219,\n",
              "         9844222499,   9844667586,   9845424069,   9845731000,\n",
              "         9845732608,   9880124996,   9900185438,   9900655335,\n",
              "         9901188241,   9901577868,   9902128887,   9902300222,\n",
              "         9902815987,   9902961078,   9916084785,   9916801863,\n",
              "         9916991649,   9928199696,   9930422131,   9933240291,\n",
              "         9945326288,   9959086821,   9986309027,   9986922554,\n",
              "       919738566651])"
            ]
          },
          "metadata": {
            "tags": []
          },
          "execution_count": 45
        }
      ]
    },
    {
      "cell_type": "code",
      "metadata": {
        "id": "tqMhntUCVICR",
        "colab_type": "code",
        "colab": {
          "base_uri": "https://localhost:8080/",
          "height": 298
        },
        "outputId": "9bd8809a-5775-436f-d566-e6dd784541e2"
      },
      "source": [
        "pd.DataFrame(webinar_data['Phone no.'].sort_values().unique()).plot(color='red',title='unique numbers')"
      ],
      "execution_count": null,
      "outputs": [
        {
          "output_type": "execute_result",
          "data": {
            "text/plain": [
              "<matplotlib.axes._subplots.AxesSubplot at 0x7f11c7a68358>"
            ]
          },
          "metadata": {
            "tags": []
          },
          "execution_count": 46
        },
        {
          "output_type": "display_data",
          "data": {
            "image/png": "[encoded data removed]",
            "text/plain": [
              "<Figure size 432x288 with 1 Axes>"
            ]
          },
          "metadata": {
            "tags": [],
            "needs_background": "light"
          }
        }
      ]
    },
    {
      "cell_type": "code",
      "metadata": {
        "id": "bcbUSXRJWFNv",
        "colab_type": "code",
        "colab": {
          "base_uri": "https://localhost:8080/",
          "height": 296
        },
        "outputId": "229462be-e0a6-410c-c7ee-3c19c1465d51"
      },
      "source": [
        "webinar_data.boxplot(figsize=[20,8])"
      ],
      "execution_count": null,
      "outputs": [
        {
          "output_type": "execute_result",
          "data": {
            "text/plain": [
              "<matplotlib.axes._subplots.AxesSubplot at 0x7f11c7a68c88>"
            ]
          },
          "metadata": {
            "tags": []
          },
          "execution_count": 48
        },
        {
          "output_type": "display_data",
          "data": {
            "image/png": "[encoded data removed]",
            "text/plain": [
              "<Figure size 1440x576 with 1 Axes>"
            ]
          },
          "metadata": {
            "tags": [],
            "needs_background": "light"
          }
        }
      ]
    },
    {
      "cell_type": "code",
      "metadata": {
        "id": "HGctADECWxLI",
        "colab_type": "code",
        "colab": {
          "base_uri": "https://localhost:8080/",
          "height": 68
        },
        "outputId": "4219a363-9106-4f36-b3c8-252bb24b77c3"
      },
      "source": [
        "webinar_data.columns"
      ],
      "execution_count": null,
      "outputs": [
        {
          "output_type": "execute_result",
          "data": {
            "text/plain": [
              "Index(['Timestamp', 'Designation', 'Department and college/organisation  name',\n",
              "       'E-mail ID', 'Phone no.'],\n",
              "      dtype='object')"
            ]
          },
          "metadata": {
            "tags": []
          },
          "execution_count": 50
        }
      ]
    },
    {
      "cell_type": "code",
      "metadata": {
        "id": "SLxQoJCFXFqn",
        "colab_type": "code",
        "colab": {
          "base_uri": "https://localhost:8080/",
          "height": 728
        },
        "outputId": "35aae23e-2f62-41ac-97b2-a6c9af4995f2"
      },
      "source": [
        "webinar_data.loc[:,:]"
      ],
      "execution_count": null,
      "outputs": [
        {
          "output_type": "execute_result",
          "data": {
            "text/html": [
              "<div>\n",
              "<style scoped>\n",
              "    .dataframe tbody tr th:only-of-type {\n",
              "        vertical-align: middle;\n",
              "    }\n",
              "\n",
              "    .dataframe tbody tr th {\n",
              "        vertical-align: top;\n",
              "    }\n",
              "\n",
              "    .dataframe thead th {\n",
              "        text-align: right;\n",
              "    }\n",
              "</style>\n",
              "<table border=\"1\" class=\"dataframe\">\n",
              "  <thead>\n",
              "    <tr style=\"text-align: right;\">\n",
              "      <th></th>\n",
              "      <th>Timestamp</th>\n",
              "      <th>Designation</th>\n",
              "      <th>Department and college/organisation  name</th>\n",
              "      <th>E-mail ID</th>\n",
              "      <th>Phone no.</th>\n",
              "    </tr>\n",
              "  </thead>\n",
              "  <tbody>\n",
              "    <tr>\n",
              "      <th>0</th>\n",
              "      <td>6/14/2020 20:36:48</td>\n",
              "      <td>Student</td>\n",
              "      <td>EEE</td>\n",
              "      <td>sarkarabhijeet096@gmail.com</td>\n",
              "      <td>9634767946</td>\n",
              "    </tr>\n",
              "    <tr>\n",
              "      <th>1</th>\n",
              "      <td>6/14/2020 20:38:16</td>\n",
              "      <td>student</td>\n",
              "      <td>Electronics and instrumentation</td>\n",
              "      <td>anisha.singh218@gmail.com</td>\n",
              "      <td>8178697062</td>\n",
              "    </tr>\n",
              "    <tr>\n",
              "      <th>2</th>\n",
              "      <td>6/14/2020 20:38:30</td>\n",
              "      <td>Student</td>\n",
              "      <td>Industrial engineering and management</td>\n",
              "      <td>shravya18asagodu@gmail.com</td>\n",
              "      <td>8277209264</td>\n",
              "    </tr>\n",
              "    <tr>\n",
              "      <th>3</th>\n",
              "      <td>6/14/2020 20:38:52</td>\n",
              "      <td>Student</td>\n",
              "      <td>Industrial engineering and management</td>\n",
              "      <td>shreyanbhat12@gmail.com</td>\n",
              "      <td>8861064857</td>\n",
              "    </tr>\n",
              "    <tr>\n",
              "      <th>4</th>\n",
              "      <td>6/14/2020 20:38:56</td>\n",
              "      <td>Student</td>\n",
              "      <td>Ise</td>\n",
              "      <td>kushalchukanatti123@gmail.com</td>\n",
              "      <td>7892005611</td>\n",
              "    </tr>\n",
              "    <tr>\n",
              "      <th>...</th>\n",
              "      <td>...</td>\n",
              "      <td>...</td>\n",
              "      <td>...</td>\n",
              "      <td>...</td>\n",
              "      <td>...</td>\n",
              "    </tr>\n",
              "    <tr>\n",
              "      <th>157</th>\n",
              "      <td>6/24/2020 15:22:30</td>\n",
              "      <td>Student</td>\n",
              "      <td>Mechanical and Ramaiah institute of technology</td>\n",
              "      <td>prajwalchidri@gmail.com</td>\n",
              "      <td>9902128887</td>\n",
              "    </tr>\n",
              "    <tr>\n",
              "      <th>158</th>\n",
              "      <td>6/24/2020 16:18:02</td>\n",
              "      <td>Student</td>\n",
              "      <td>Mechanical /M S Ramaiah Institute of Technology</td>\n",
              "      <td>mohammedsahilraza1947@gmail.com</td>\n",
              "      <td>7338101691</td>\n",
              "    </tr>\n",
              "    <tr>\n",
              "      <th>159</th>\n",
              "      <td>6/24/2020 16:28:23</td>\n",
              "      <td>Student</td>\n",
              "      <td>CSE, RIT</td>\n",
              "      <td>jaisonp.dsouza@gmail.com</td>\n",
              "      <td>8971336365</td>\n",
              "    </tr>\n",
              "    <tr>\n",
              "      <th>160</th>\n",
              "      <td>6/24/2020 17:19:38</td>\n",
              "      <td>Student</td>\n",
              "      <td>Chemical engineering, Sathyabama Institute of ...</td>\n",
              "      <td>shawanishome@gmail.com</td>\n",
              "      <td>8133888291</td>\n",
              "    </tr>\n",
              "    <tr>\n",
              "      <th>161</th>\n",
              "      <td>6/24/2020 17:27:16</td>\n",
              "      <td>STUDENT</td>\n",
              "      <td>SATHYABAMA INSTITUTE OF SCIENCE AND TECHNOLOGY</td>\n",
              "      <td>1404nikhilkr@gmail.com</td>\n",
              "      <td>9013240100</td>\n",
              "    </tr>\n",
              "  </tbody>\n",
              "</table>\n",
              "<p>162 rows × 5 columns</p>\n",
              "</div>"
            ],
            "text/plain": [
              "              Timestamp  ...   Phone no.\n",
              "0    6/14/2020 20:36:48  ...  9634767946\n",
              "1    6/14/2020 20:38:16  ...  8178697062\n",
              "2    6/14/2020 20:38:30  ...  8277209264\n",
              "3    6/14/2020 20:38:52  ...  8861064857\n",
              "4    6/14/2020 20:38:56  ...  7892005611\n",
              "..                  ...  ...         ...\n",
              "157  6/24/2020 15:22:30  ...  9902128887\n",
              "158  6/24/2020 16:18:02  ...  7338101691\n",
              "159  6/24/2020 16:28:23  ...  8971336365\n",
              "160  6/24/2020 17:19:38  ...  8133888291\n",
              "161  6/24/2020 17:27:16  ...  9013240100\n",
              "\n",
              "[162 rows x 5 columns]"
            ]
          },
          "metadata": {
            "tags": []
          },
          "execution_count": 51
        }
      ]
    },
    {
      "cell_type": "code",
      "metadata": {
        "id": "Bc2MmmboZKfx",
        "colab_type": "code",
        "colab": {
          "base_uri": "https://localhost:8080/",
          "height": 34
        },
        "outputId": "5fdca91e-e4ad-41bd-86c8-a36d83676a49"
      },
      "source": [
        "webinar_data.shape"
      ],
      "execution_count": null,
      "outputs": [
        {
          "output_type": "execute_result",
          "data": {
            "text/plain": [
              "(162, 5)"
            ]
          },
          "metadata": {
            "tags": []
          },
          "execution_count": 52
        }
      ]
    },
    {
      "cell_type": "code",
      "metadata": {
        "id": "W8gF7SBfZXo9",
        "colab_type": "code",
        "colab": {}
      },
      "source": [
        "y=webinar_data.loc[9:50,'Designation':'Phone no.']"
      ],
      "execution_count": null,
      "outputs": []
    },
    {
      "cell_type": "code",
      "metadata": {
        "id": "bMqKXdn3ZnNC",
        "colab_type": "code",
        "colab": {
          "base_uri": "https://localhost:8080/",
          "height": 1000
        },
        "outputId": "1f0bd1fd-d619-40d5-80dc-013201df7e95"
      },
      "source": [
        "y\n"
      ],
      "execution_count": null,
      "outputs": [
        {
          "output_type": "execute_result",
          "data": {
            "text/html": [
              "<div>\n",
              "<style scoped>\n",
              "    .dataframe tbody tr th:only-of-type {\n",
              "        vertical-align: middle;\n",
              "    }\n",
              "\n",
              "    .dataframe tbody tr th {\n",
              "        vertical-align: top;\n",
              "    }\n",
              "\n",
              "    .dataframe thead th {\n",
              "        text-align: right;\n",
              "    }\n",
              "</style>\n",
              "<table border=\"1\" class=\"dataframe\">\n",
              "  <thead>\n",
              "    <tr style=\"text-align: right;\">\n",
              "      <th></th>\n",
              "      <th>Designation</th>\n",
              "      <th>Department and college/organisation  name</th>\n",
              "      <th>E-mail ID</th>\n",
              "      <th>Phone no.</th>\n",
              "    </tr>\n",
              "  </thead>\n",
              "  <tbody>\n",
              "    <tr>\n",
              "      <th>9</th>\n",
              "      <td>Student</td>\n",
              "      <td>IEM</td>\n",
              "      <td>hemanthmshetty439@gmail.com</td>\n",
              "      <td>9845732608</td>\n",
              "    </tr>\n",
              "    <tr>\n",
              "      <th>10</th>\n",
              "      <td>Student</td>\n",
              "      <td>EEE</td>\n",
              "      <td>arpit13031997@gmail.com</td>\n",
              "      <td>8310696473</td>\n",
              "    </tr>\n",
              "    <tr>\n",
              "      <th>11</th>\n",
              "      <td>Student</td>\n",
              "      <td>EEE</td>\n",
              "      <td>harikrishnanair98@gmail.com</td>\n",
              "      <td>9930422131</td>\n",
              "    </tr>\n",
              "    <tr>\n",
              "      <th>12</th>\n",
              "      <td>Student</td>\n",
              "      <td>Industrial Engineering and Management</td>\n",
              "      <td>navyan1999@gmail.com</td>\n",
              "      <td>7975738855</td>\n",
              "    </tr>\n",
              "    <tr>\n",
              "      <th>13</th>\n",
              "      <td>Student</td>\n",
              "      <td>Mechanical</td>\n",
              "      <td>anagha99bharadwaj@gmail.com</td>\n",
              "      <td>9663379012</td>\n",
              "    </tr>\n",
              "    <tr>\n",
              "      <th>14</th>\n",
              "      <td>Student</td>\n",
              "      <td>EEE</td>\n",
              "      <td>mittalshivam003@gmail.com</td>\n",
              "      <td>9739175430</td>\n",
              "    </tr>\n",
              "    <tr>\n",
              "      <th>15</th>\n",
              "      <td>Noting up to now</td>\n",
              "      <td>Ece</td>\n",
              "      <td>gmnreddy2001@gmail.com</td>\n",
              "      <td>9959086821</td>\n",
              "    </tr>\n",
              "    <tr>\n",
              "      <th>16</th>\n",
              "      <td>Student</td>\n",
              "      <td>EEE</td>\n",
              "      <td>rima98kulkarni@gmail.com</td>\n",
              "      <td>8310636929</td>\n",
              "    </tr>\n",
              "    <tr>\n",
              "      <th>17</th>\n",
              "      <td>Student</td>\n",
              "      <td>CSE</td>\n",
              "      <td>sreya1805@gmail.com</td>\n",
              "      <td>9071651603</td>\n",
              "    </tr>\n",
              "    <tr>\n",
              "      <th>18</th>\n",
              "      <td>Student</td>\n",
              "      <td>EEE</td>\n",
              "      <td>b.rohit9@gmail.com</td>\n",
              "      <td>9902300222</td>\n",
              "    </tr>\n",
              "    <tr>\n",
              "      <th>19</th>\n",
              "      <td>Student</td>\n",
              "      <td>EEE</td>\n",
              "      <td>pavankrishnamurthy8@gmail.com</td>\n",
              "      <td>9380386193</td>\n",
              "    </tr>\n",
              "    <tr>\n",
              "      <th>20</th>\n",
              "      <td>2nd sem student</td>\n",
              "      <td>EEE</td>\n",
              "      <td>prayushi.doshi@gmail.com</td>\n",
              "      <td>9352157900</td>\n",
              "    </tr>\n",
              "    <tr>\n",
              "      <th>21</th>\n",
              "      <td>Student</td>\n",
              "      <td>ISE</td>\n",
              "      <td>adityaupadhya2000@gmail.com</td>\n",
              "      <td>9844667586</td>\n",
              "    </tr>\n",
              "    <tr>\n",
              "      <th>22</th>\n",
              "      <td>Mtech(CAID)</td>\n",
              "      <td>Electrical and Electronics engineering</td>\n",
              "      <td>harish.sp.4196@gmail.com</td>\n",
              "      <td>7204281043</td>\n",
              "    </tr>\n",
              "    <tr>\n",
              "      <th>23</th>\n",
              "      <td>Student</td>\n",
              "      <td>EEE</td>\n",
              "      <td>deepanshu98d@gmail.com</td>\n",
              "      <td>9596965838</td>\n",
              "    </tr>\n",
              "    <tr>\n",
              "      <th>24</th>\n",
              "      <td>Student</td>\n",
              "      <td>Electronics and Instrumentation</td>\n",
              "      <td>haarisrahman@gmail.com</td>\n",
              "      <td>9880124996</td>\n",
              "    </tr>\n",
              "    <tr>\n",
              "      <th>25</th>\n",
              "      <td>8th semester student</td>\n",
              "      <td>EEE</td>\n",
              "      <td>mangala21498@gmail.com</td>\n",
              "      <td>9535931684</td>\n",
              "    </tr>\n",
              "    <tr>\n",
              "      <th>26</th>\n",
              "      <td>Student</td>\n",
              "      <td>CAID</td>\n",
              "      <td>soumyashreek221997@gmail.com</td>\n",
              "      <td>8197328654</td>\n",
              "    </tr>\n",
              "    <tr>\n",
              "      <th>27</th>\n",
              "      <td>BE</td>\n",
              "      <td>Information science</td>\n",
              "      <td>vandana.guk@gmail.com</td>\n",
              "      <td>7892671834</td>\n",
              "    </tr>\n",
              "    <tr>\n",
              "      <th>28</th>\n",
              "      <td>Student</td>\n",
              "      <td>EEE</td>\n",
              "      <td>pankhuree1005@gmail.com</td>\n",
              "      <td>9928199696</td>\n",
              "    </tr>\n",
              "    <tr>\n",
              "      <th>29</th>\n",
              "      <td>Student</td>\n",
              "      <td>Iem</td>\n",
              "      <td>kanajivedant@gmail.com</td>\n",
              "      <td>9110409371</td>\n",
              "    </tr>\n",
              "    <tr>\n",
              "      <th>30</th>\n",
              "      <td>Student</td>\n",
              "      <td>EEE</td>\n",
              "      <td>manojkumarbdvt@gmail.com</td>\n",
              "      <td>7483406387</td>\n",
              "    </tr>\n",
              "    <tr>\n",
              "      <th>31</th>\n",
              "      <td>Student</td>\n",
              "      <td>ISE</td>\n",
              "      <td>kushalgarg2000@gmail.com</td>\n",
              "      <td>9582717169</td>\n",
              "    </tr>\n",
              "    <tr>\n",
              "      <th>32</th>\n",
              "      <td>Student</td>\n",
              "      <td>Industrial engineering and management</td>\n",
              "      <td>vidya.srinivas0@gmail.com</td>\n",
              "      <td>7829121999</td>\n",
              "    </tr>\n",
              "    <tr>\n",
              "      <th>33</th>\n",
              "      <td>Student</td>\n",
              "      <td>Electrical and Electronics Engineering</td>\n",
              "      <td>nishapradeepds@gmail.com</td>\n",
              "      <td>9620895666</td>\n",
              "    </tr>\n",
              "    <tr>\n",
              "      <th>34</th>\n",
              "      <td>Student(4th semester)</td>\n",
              "      <td>Computer Science</td>\n",
              "      <td>divyasanjeevni@gmail.com</td>\n",
              "      <td>6362914965</td>\n",
              "    </tr>\n",
              "    <tr>\n",
              "      <th>35</th>\n",
              "      <td>Assistant Professor</td>\n",
              "      <td>Electrical and Electronics Engineering</td>\n",
              "      <td>sampath461@gmail.com</td>\n",
              "      <td>9789722219</td>\n",
              "    </tr>\n",
              "    <tr>\n",
              "      <th>36</th>\n",
              "      <td>Student</td>\n",
              "      <td>Mechanical</td>\n",
              "      <td>mayank120raghu@gmail.com</td>\n",
              "      <td>8218718474</td>\n",
              "    </tr>\n",
              "    <tr>\n",
              "      <th>37</th>\n",
              "      <td>BE</td>\n",
              "      <td>Electrical and electronics engineering</td>\n",
              "      <td>akarsh.malik98@gmail.com</td>\n",
              "      <td>7259254008</td>\n",
              "    </tr>\n",
              "    <tr>\n",
              "      <th>38</th>\n",
              "      <td>Assistant Professor</td>\n",
              "      <td>Electrical and Electronics Engineering, Kongun...</td>\n",
              "      <td>sampath461@gmail.com</td>\n",
              "      <td>9789722219</td>\n",
              "    </tr>\n",
              "    <tr>\n",
              "      <th>39</th>\n",
              "      <td>Student</td>\n",
              "      <td>Electrical and electronics engineering</td>\n",
              "      <td>achyuthpayani@gmail.com</td>\n",
              "      <td>8431629243</td>\n",
              "    </tr>\n",
              "    <tr>\n",
              "      <th>40</th>\n",
              "      <td>Student</td>\n",
              "      <td>EEE, Ramaiah Institute of Technology</td>\n",
              "      <td>anaghanadig04@gmail.com</td>\n",
              "      <td>8792916121</td>\n",
              "    </tr>\n",
              "    <tr>\n",
              "      <th>41</th>\n",
              "      <td>Student</td>\n",
              "      <td>EEE RIT</td>\n",
              "      <td>akhiln32000@gmail.com</td>\n",
              "      <td>6360941851</td>\n",
              "    </tr>\n",
              "    <tr>\n",
              "      <th>42</th>\n",
              "      <td>MTech in CAID</td>\n",
              "      <td>EEE Dept MS Ramaiah Institute of Technology Ba...</td>\n",
              "      <td>sanoberkhanapuri27@gmail.com</td>\n",
              "      <td>9481763813</td>\n",
              "    </tr>\n",
              "    <tr>\n",
              "      <th>43</th>\n",
              "      <td>Asst Manager</td>\n",
              "      <td>Larsen and Toubro</td>\n",
              "      <td>ankit.k2304@gmail.com</td>\n",
              "      <td>7358666181</td>\n",
              "    </tr>\n",
              "    <tr>\n",
              "      <th>44</th>\n",
              "      <td>Student</td>\n",
              "      <td>EEE, RIT BENGALURU</td>\n",
              "      <td>seexan28jan@gmail.com</td>\n",
              "      <td>7006771085</td>\n",
              "    </tr>\n",
              "    <tr>\n",
              "      <th>45</th>\n",
              "      <td>Student</td>\n",
              "      <td>Ise and Ramaiah institute of technology</td>\n",
              "      <td>gayathrip12601@gmail.com</td>\n",
              "      <td>9148134568</td>\n",
              "    </tr>\n",
              "    <tr>\n",
              "      <th>46</th>\n",
              "      <td>Student</td>\n",
              "      <td>RIT, EEE</td>\n",
              "      <td>msgkeerthana@gmail.com</td>\n",
              "      <td>8762018221</td>\n",
              "    </tr>\n",
              "    <tr>\n",
              "      <th>47</th>\n",
              "      <td>Student</td>\n",
              "      <td>ISE and Ramaiah Institute of Technology</td>\n",
              "      <td>psai4580@gmail.com</td>\n",
              "      <td>7022310591</td>\n",
              "    </tr>\n",
              "    <tr>\n",
              "      <th>48</th>\n",
              "      <td>Student</td>\n",
              "      <td>Telecommunication engineering, MSRIT</td>\n",
              "      <td>ch.chandrika.123@gmail.com</td>\n",
              "      <td>7406103357</td>\n",
              "    </tr>\n",
              "    <tr>\n",
              "      <th>49</th>\n",
              "      <td>STUDENT</td>\n",
              "      <td>EEE, RAMAIAH INSTITUTE OF TECHNOLOGY</td>\n",
              "      <td>vks3111996@gmail.com</td>\n",
              "      <td>7406469791</td>\n",
              "    </tr>\n",
              "    <tr>\n",
              "      <th>50</th>\n",
              "      <td>Student</td>\n",
              "      <td>Mechanical Engineering, RIT</td>\n",
              "      <td>sv.paresh.paresh@gmail.com</td>\n",
              "      <td>7624819010</td>\n",
              "    </tr>\n",
              "  </tbody>\n",
              "</table>\n",
              "</div>"
            ],
            "text/plain": [
              "              Designation  ...   Phone no.\n",
              "9                Student   ...  9845732608\n",
              "10                Student  ...  8310696473\n",
              "11                Student  ...  9930422131\n",
              "12                Student  ...  7975738855\n",
              "13                Student  ...  9663379012\n",
              "14                Student  ...  9739175430\n",
              "15       Noting up to now  ...  9959086821\n",
              "16                Student  ...  8310636929\n",
              "17                Student  ...  9071651603\n",
              "18                Student  ...  9902300222\n",
              "19                Student  ...  9380386193\n",
              "20        2nd sem student  ...  9352157900\n",
              "21                Student  ...  9844667586\n",
              "22            Mtech(CAID)  ...  7204281043\n",
              "23                Student  ...  9596965838\n",
              "24                Student  ...  9880124996\n",
              "25   8th semester student  ...  9535931684\n",
              "26                Student  ...  8197328654\n",
              "27                     BE  ...  7892671834\n",
              "28                Student  ...  9928199696\n",
              "29                Student  ...  9110409371\n",
              "30                Student  ...  7483406387\n",
              "31                Student  ...  9582717169\n",
              "32                Student  ...  7829121999\n",
              "33                Student  ...  9620895666\n",
              "34  Student(4th semester)  ...  6362914965\n",
              "35    Assistant Professor  ...  9789722219\n",
              "36                Student  ...  8218718474\n",
              "37                     BE  ...  7259254008\n",
              "38    Assistant Professor  ...  9789722219\n",
              "39                Student  ...  8431629243\n",
              "40               Student   ...  8792916121\n",
              "41                Student  ...  6360941851\n",
              "42          MTech in CAID  ...  9481763813\n",
              "43          Asst Manager   ...  7358666181\n",
              "44               Student   ...  7006771085\n",
              "45                Student  ...  9148134568\n",
              "46               Student   ...  8762018221\n",
              "47                Student  ...  7022310591\n",
              "48               Student   ...  7406103357\n",
              "49                STUDENT  ...  7406469791\n",
              "50               Student   ...  7624819010\n",
              "\n",
              "[42 rows x 4 columns]"
            ]
          },
          "metadata": {
            "tags": []
          },
          "execution_count": 73
        }
      ]
    },
    {
      "cell_type": "code",
      "metadata": {
        "id": "lbeh_n-SZ6GX",
        "colab_type": "code",
        "colab": {
          "base_uri": "https://localhost:8080/",
          "height": 382
        },
        "outputId": "4bf28c0b-0498-4dcb-eefe-8866acf186db"
      },
      "source": [
        "webinar_data.iloc[1:9,1:4]"
      ],
      "execution_count": null,
      "outputs": [
        {
          "output_type": "execute_result",
          "data": {
            "text/html": [
              "<div>\n",
              "<style scoped>\n",
              "    .dataframe tbody tr th:only-of-type {\n",
              "        vertical-align: middle;\n",
              "    }\n",
              "\n",
              "    .dataframe tbody tr th {\n",
              "        vertical-align: top;\n",
              "    }\n",
              "\n",
              "    .dataframe thead th {\n",
              "        text-align: right;\n",
              "    }\n",
              "</style>\n",
              "<table border=\"1\" class=\"dataframe\">\n",
              "  <thead>\n",
              "    <tr style=\"text-align: right;\">\n",
              "      <th></th>\n",
              "      <th>Designation</th>\n",
              "      <th>Department and college/organisation  name</th>\n",
              "      <th>E-mail ID</th>\n",
              "    </tr>\n",
              "  </thead>\n",
              "  <tbody>\n",
              "    <tr>\n",
              "      <th>1</th>\n",
              "      <td>student</td>\n",
              "      <td>Electronics and instrumentation</td>\n",
              "      <td>anisha.singh218@gmail.com</td>\n",
              "    </tr>\n",
              "    <tr>\n",
              "      <th>2</th>\n",
              "      <td>Student</td>\n",
              "      <td>Industrial engineering and management</td>\n",
              "      <td>shravya18asagodu@gmail.com</td>\n",
              "    </tr>\n",
              "    <tr>\n",
              "      <th>3</th>\n",
              "      <td>Student</td>\n",
              "      <td>Industrial engineering and management</td>\n",
              "      <td>shreyanbhat12@gmail.com</td>\n",
              "    </tr>\n",
              "    <tr>\n",
              "      <th>4</th>\n",
              "      <td>Student</td>\n",
              "      <td>Ise</td>\n",
              "      <td>kushalchukanatti123@gmail.com</td>\n",
              "    </tr>\n",
              "    <tr>\n",
              "      <th>5</th>\n",
              "      <td>STUDENT</td>\n",
              "      <td>EEE</td>\n",
              "      <td>shravaniavadhanam2000@gmail.com</td>\n",
              "    </tr>\n",
              "    <tr>\n",
              "      <th>6</th>\n",
              "      <td>Student</td>\n",
              "      <td>Electronic and instrumentation department</td>\n",
              "      <td>pruthvi219shewag@gmail.com</td>\n",
              "    </tr>\n",
              "    <tr>\n",
              "      <th>7</th>\n",
              "      <td>Student</td>\n",
              "      <td>Industrial engineering and management</td>\n",
              "      <td>nishith.mayankmsrit@gmail.com</td>\n",
              "    </tr>\n",
              "    <tr>\n",
              "      <th>8</th>\n",
              "      <td>Student</td>\n",
              "      <td>IEM</td>\n",
              "      <td>roshinijacinthas@gmail.com</td>\n",
              "    </tr>\n",
              "  </tbody>\n",
              "</table>\n",
              "</div>"
            ],
            "text/plain": [
              "  Designation  ...                        E-mail ID\n",
              "1     student  ...        anisha.singh218@gmail.com\n",
              "2    Student   ...      shravya18asagodu@gmail.com \n",
              "3     Student  ...          shreyanbhat12@gmail.com\n",
              "4     Student  ...    kushalchukanatti123@gmail.com\n",
              "5     STUDENT  ...  shravaniavadhanam2000@gmail.com\n",
              "6     Student  ...       pruthvi219shewag@gmail.com\n",
              "7     Student  ...    nishith.mayankmsrit@gmail.com\n",
              "8    Student   ...      roshinijacinthas@gmail.com \n",
              "\n",
              "[8 rows x 3 columns]"
            ]
          },
          "metadata": {
            "tags": []
          },
          "execution_count": 74
        }
      ]
    },
    {
      "cell_type": "code",
      "metadata": {
        "id": "-dafgPiwayL1",
        "colab_type": "code",
        "colab": {}
      },
      "source": [
        "d=pd.read_csv('https://raw.githubusercontent.com/kusumikakd/Datasets/master/Datasets/Diabetes_Preprocessing.csv')"
      ],
      "execution_count": null,
      "outputs": []
    },
    {
      "cell_type": "code",
      "metadata": {
        "id": "F_RzsFfhoGJA",
        "colab_type": "code",
        "colab": {
          "base_uri": "https://localhost:8080/",
          "height": 439
        },
        "outputId": "2bd4d486-8286-46c1-bcb1-b748e18325c0"
      },
      "source": [
        "d\n"
      ],
      "execution_count": null,
      "outputs": [
        {
          "output_type": "execute_result",
          "data": {
            "text/html": [
              "<div>\n",
              "<style scoped>\n",
              "    .dataframe tbody tr th:only-of-type {\n",
              "        vertical-align: middle;\n",
              "    }\n",
              "\n",
              "    .dataframe tbody tr th {\n",
              "        vertical-align: top;\n",
              "    }\n",
              "\n",
              "    .dataframe thead th {\n",
              "        text-align: right;\n",
              "    }\n",
              "</style>\n",
              "<table border=\"1\" class=\"dataframe\">\n",
              "  <thead>\n",
              "    <tr style=\"text-align: right;\">\n",
              "      <th></th>\n",
              "      <th>Pregnancies</th>\n",
              "      <th>Glucose</th>\n",
              "      <th>BloodPressure</th>\n",
              "      <th>SkinThickness</th>\n",
              "      <th>Insulin</th>\n",
              "      <th>BMI</th>\n",
              "      <th>DiabetesPedigreeFunction</th>\n",
              "      <th>Age</th>\n",
              "      <th>Outcome</th>\n",
              "    </tr>\n",
              "  </thead>\n",
              "  <tbody>\n",
              "    <tr>\n",
              "      <th>0</th>\n",
              "      <td>6</td>\n",
              "      <td>148.0</td>\n",
              "      <td>72.0</td>\n",
              "      <td>35.0</td>\n",
              "      <td>NaN</td>\n",
              "      <td>33.6</td>\n",
              "      <td>0.627</td>\n",
              "      <td>5</td>\n",
              "      <td>1</td>\n",
              "    </tr>\n",
              "    <tr>\n",
              "      <th>1</th>\n",
              "      <td>1</td>\n",
              "      <td>85.0</td>\n",
              "      <td>66.0</td>\n",
              "      <td>29.0</td>\n",
              "      <td>NaN</td>\n",
              "      <td>26.6</td>\n",
              "      <td>0.351</td>\n",
              "      <td>31</td>\n",
              "      <td>0</td>\n",
              "    </tr>\n",
              "    <tr>\n",
              "      <th>2</th>\n",
              "      <td>8</td>\n",
              "      <td>183.0</td>\n",
              "      <td>64.0</td>\n",
              "      <td>NaN</td>\n",
              "      <td>NaN</td>\n",
              "      <td>23.3</td>\n",
              "      <td>0.672</td>\n",
              "      <td>32</td>\n",
              "      <td>1</td>\n",
              "    </tr>\n",
              "    <tr>\n",
              "      <th>3</th>\n",
              "      <td>1</td>\n",
              "      <td>89.0</td>\n",
              "      <td>66.0</td>\n",
              "      <td>23.0</td>\n",
              "      <td>94.0</td>\n",
              "      <td>28.1</td>\n",
              "      <td>0.167</td>\n",
              "      <td>21</td>\n",
              "      <td>0</td>\n",
              "    </tr>\n",
              "    <tr>\n",
              "      <th>4</th>\n",
              "      <td>0</td>\n",
              "      <td>137.0</td>\n",
              "      <td>4.0</td>\n",
              "      <td>35.0</td>\n",
              "      <td>168.0</td>\n",
              "      <td>43.1</td>\n",
              "      <td>2.288</td>\n",
              "      <td>33</td>\n",
              "      <td>1</td>\n",
              "    </tr>\n",
              "    <tr>\n",
              "      <th>...</th>\n",
              "      <td>...</td>\n",
              "      <td>...</td>\n",
              "      <td>...</td>\n",
              "      <td>...</td>\n",
              "      <td>...</td>\n",
              "      <td>...</td>\n",
              "      <td>...</td>\n",
              "      <td>...</td>\n",
              "      <td>...</td>\n",
              "    </tr>\n",
              "    <tr>\n",
              "      <th>763</th>\n",
              "      <td>10</td>\n",
              "      <td>11.0</td>\n",
              "      <td>76.0</td>\n",
              "      <td>48.0</td>\n",
              "      <td>18.0</td>\n",
              "      <td>32.9</td>\n",
              "      <td>0.171</td>\n",
              "      <td>63</td>\n",
              "      <td>0</td>\n",
              "    </tr>\n",
              "    <tr>\n",
              "      <th>764</th>\n",
              "      <td>2</td>\n",
              "      <td>122.0</td>\n",
              "      <td>7.0</td>\n",
              "      <td>27.0</td>\n",
              "      <td>NaN</td>\n",
              "      <td>36.8</td>\n",
              "      <td>0.340</td>\n",
              "      <td>27</td>\n",
              "      <td>0</td>\n",
              "    </tr>\n",
              "    <tr>\n",
              "      <th>765</th>\n",
              "      <td>5</td>\n",
              "      <td>121.0</td>\n",
              "      <td>72.0</td>\n",
              "      <td>23.0</td>\n",
              "      <td>112.0</td>\n",
              "      <td>26.2</td>\n",
              "      <td>0.245</td>\n",
              "      <td>3</td>\n",
              "      <td>0</td>\n",
              "    </tr>\n",
              "    <tr>\n",
              "      <th>766</th>\n",
              "      <td>1</td>\n",
              "      <td>126.0</td>\n",
              "      <td>6.0</td>\n",
              "      <td>NaN</td>\n",
              "      <td>NaN</td>\n",
              "      <td>3.1</td>\n",
              "      <td>0.349</td>\n",
              "      <td>47</td>\n",
              "      <td>1</td>\n",
              "    </tr>\n",
              "    <tr>\n",
              "      <th>767</th>\n",
              "      <td>1</td>\n",
              "      <td>93.0</td>\n",
              "      <td>7.0</td>\n",
              "      <td>31.0</td>\n",
              "      <td>NaN</td>\n",
              "      <td>3.4</td>\n",
              "      <td>0.315</td>\n",
              "      <td>23</td>\n",
              "      <td>0</td>\n",
              "    </tr>\n",
              "  </tbody>\n",
              "</table>\n",
              "<p>768 rows × 9 columns</p>\n",
              "</div>"
            ],
            "text/plain": [
              "     Pregnancies  Glucose  ...  Age  Outcome\n",
              "0              6    148.0  ...    5        1\n",
              "1              1     85.0  ...   31        0\n",
              "2              8    183.0  ...   32        1\n",
              "3              1     89.0  ...   21        0\n",
              "4              0    137.0  ...   33        1\n",
              "..           ...      ...  ...  ...      ...\n",
              "763           10     11.0  ...   63        0\n",
              "764            2    122.0  ...   27        0\n",
              "765            5    121.0  ...    3        0\n",
              "766            1    126.0  ...   47        1\n",
              "767            1     93.0  ...   23        0\n",
              "\n",
              "[768 rows x 9 columns]"
            ]
          },
          "metadata": {
            "tags": []
          },
          "execution_count": 79
        }
      ]
    },
    {
      "cell_type": "code",
      "metadata": {
        "id": "obEjWH3lonXp",
        "colab_type": "code",
        "colab": {}
      },
      "source": [
        "x=d.drop(['Pregnancies','Outcome'],axis=1)"
      ],
      "execution_count": null,
      "outputs": []
    },
    {
      "cell_type": "code",
      "metadata": {
        "id": "KI5v0yV5p9-P",
        "colab_type": "code",
        "colab": {}
      },
      "source": [
        "x.replace(0,np.nan,inplace=True)"
      ],
      "execution_count": null,
      "outputs": []
    },
    {
      "cell_type": "code",
      "metadata": {
        "id": "cV5dRmLEqf1T",
        "colab_type": "code",
        "colab": {
          "base_uri": "https://localhost:8080/",
          "height": 153
        },
        "outputId": "b1038f43-13a1-4cd3-cf8a-af5bc850248f"
      },
      "source": [
        "x.isnull().sum().sort_values(ascending=False)"
      ],
      "execution_count": null,
      "outputs": [
        {
          "output_type": "execute_result",
          "data": {
            "text/plain": [
              "Insulin                     374\n",
              "SkinThickness               227\n",
              "BloodPressure                35\n",
              "BMI                          11\n",
              "Glucose                       5\n",
              "Age                           0\n",
              "DiabetesPedigreeFunction      0\n",
              "dtype: int64"
            ]
          },
          "metadata": {
            "tags": []
          },
          "execution_count": 84
        }
      ]
    },
    {
      "cell_type": "markdown",
      "metadata": {
        "id": "SaDuDtWyrFm8",
        "colab_type": "text"
      },
      "source": [
        "**simple imputer**"
      ]
    },
    {
      "cell_type": "code",
      "metadata": {
        "id": "2Lq-r4rhqvcO",
        "colab_type": "code",
        "colab": {}
      },
      "source": [
        "from sklearn.impute import SimpleImputer\n",
        "impute=SimpleImputer(strategy='median')"
      ],
      "execution_count": null,
      "outputs": []
    },
    {
      "cell_type": "code",
      "metadata": {
        "id": "H7qtT4K_ru0G",
        "colab_type": "code",
        "colab": {}
      },
      "source": [
        "diab=impute.fit_transform(x)"
      ],
      "execution_count": null,
      "outputs": []
    },
    {
      "cell_type": "code",
      "metadata": {
        "id": "m1YiW-wfsKfy",
        "colab_type": "code",
        "colab": {}
      },
      "source": [
        "diab1=pd.DataFrame(diab,columns=x.columns)"
      ],
      "execution_count": null,
      "outputs": []
    },
    {
      "cell_type": "code",
      "metadata": {
        "id": "kbLJMt39sYG8",
        "colab_type": "code",
        "colab": {
          "base_uri": "https://localhost:8080/",
          "height": 153
        },
        "outputId": "144f9402-2934-42b8-936b-c3ce7b6a5f1e"
      },
      "source": [
        "diab1.isnull().sum()"
      ],
      "execution_count": null,
      "outputs": [
        {
          "output_type": "execute_result",
          "data": {
            "text/plain": [
              "Glucose                     0\n",
              "BloodPressure               0\n",
              "SkinThickness               0\n",
              "Insulin                     0\n",
              "BMI                         0\n",
              "DiabetesPedigreeFunction    0\n",
              "Age                         0\n",
              "dtype: int64"
            ]
          },
          "metadata": {
            "tags": []
          },
          "execution_count": 98
        }
      ]
    },
    {
      "cell_type": "code",
      "metadata": {
        "id": "xed8X_Kkths5",
        "colab_type": "code",
        "colab": {}
      },
      "source": [
        "d=pd.read_csv('https://raw.githubusercontent.com/kusumikakd/Datasets/master/Datasets/Diabetes_Preprocessing.csv')"
      ],
      "execution_count": null,
      "outputs": []
    },
    {
      "cell_type": "code",
      "metadata": {
        "id": "Ru8EDngrvAt-",
        "colab_type": "code",
        "colab": {}
      },
      "source": [
        "diab1['Pregnancies']=d.Pregnancies"
      ],
      "execution_count": null,
      "outputs": []
    },
    {
      "cell_type": "code",
      "metadata": {
        "id": "YwISS23DvMPQ",
        "colab_type": "code",
        "colab": {
          "base_uri": "https://localhost:8080/",
          "height": 68
        },
        "outputId": "e1c0c48d-64e5-4843-bee5-e06faec29b40"
      },
      "source": [
        "diab1.columns"
      ],
      "execution_count": null,
      "outputs": [
        {
          "output_type": "execute_result",
          "data": {
            "text/plain": [
              "Index(['Glucose', 'BloodPressure', 'SkinThickness', 'Insulin', 'BMI',\n",
              "       'DiabetesPedigreeFunction', 'Age', 'Pregnancies'],\n",
              "      dtype='object')"
            ]
          },
          "metadata": {
            "tags": []
          },
          "execution_count": 101
        }
      ]
    },
    {
      "cell_type": "code",
      "metadata": {
        "id": "G2D-D8favkHy",
        "colab_type": "code",
        "colab": {}
      },
      "source": [
        ""
      ],
      "execution_count": null,
      "outputs": []
    }
  ]
}